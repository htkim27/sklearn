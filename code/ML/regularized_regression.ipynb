{
  "nbformat": 4,
  "nbformat_minor": 0,
  "metadata": {
    "colab": {
      "name": "regularized_regression.ipynb",
      "provenance": [],
      "mount_file_id": "1bM0wHYhzRQQEmLT2LVDk4Ou9FAVpJXJu",
      "authorship_tag": "ABX9TyNETslEl4cvaSrjhzQ5Jlsx",
      "include_colab_link": true
    },
    "kernelspec": {
      "name": "python3",
      "display_name": "Python 3"
    },
    "language_info": {
      "name": "python"
    }
  },
  "cells": [
    {
      "cell_type": "markdown",
      "metadata": {
        "id": "view-in-github",
        "colab_type": "text"
      },
      "source": [
        "<a href=\"https://colab.research.google.com/github/htkim27/sklearn/blob/master/code/ML/regularized_regression.ipynb\" target=\"_parent\"><img src=\"https://colab.research.google.com/assets/colab-badge.svg\" alt=\"Open In Colab\"/></a>"
      ]
    },
    {
      "cell_type": "code",
      "execution_count": 16,
      "metadata": {
        "colab": {
          "base_uri": "https://localhost:8080/"
        },
        "id": "-QX-FFmyUtnd",
        "outputId": "dac41023-362f-4cb5-f9f0-fac54b71e221"
      },
      "outputs": [
        {
          "output_type": "stream",
          "name": "stdout",
          "text": [
            "fatal: destination path 'sklearn' already exists and is not an empty directory.\n",
            "Cloning into 'Export_Prediction.'...\n",
            "fatal: could not read Username for 'https://github.com': No such device or address\n",
            "Looking in indexes: https://pypi.org/simple, https://us-python.pkg.dev/colab-wheels/public/simple/\n",
            "Requirement already satisfied: statsmodels in /usr/local/lib/python3.7/dist-packages (0.10.2)\n",
            "Requirement already satisfied: scipy>=0.18 in /usr/local/lib/python3.7/dist-packages (from statsmodels) (1.4.1)\n",
            "Requirement already satisfied: pandas>=0.19 in /usr/local/lib/python3.7/dist-packages (from statsmodels) (1.3.5)\n",
            "Requirement already satisfied: numpy>=1.11 in /usr/local/lib/python3.7/dist-packages (from statsmodels) (1.21.6)\n",
            "Requirement already satisfied: patsy>=0.4.0 in /usr/local/lib/python3.7/dist-packages (from statsmodels) (0.5.2)\n",
            "Requirement already satisfied: pytz>=2017.3 in /usr/local/lib/python3.7/dist-packages (from pandas>=0.19->statsmodels) (2022.1)\n",
            "Requirement already satisfied: python-dateutil>=2.7.3 in /usr/local/lib/python3.7/dist-packages (from pandas>=0.19->statsmodels) (2.8.2)\n",
            "Requirement already satisfied: six in /usr/local/lib/python3.7/dist-packages (from patsy>=0.4.0->statsmodels) (1.15.0)\n"
          ]
        }
      ],
      "source": [
        "!git clone https://github.com/htkim27/sklearn.git\n",
        "!git clone https://github.com/youngsilpark/Export_Prediction.\n",
        "!pip install statsmodels\n",
        "\n",
        "import pandas as pd\n",
        "import numpy as np\n",
        "from sklearn import metrics\n",
        "from sklearn.model_selection import train_test_split\n",
        "from sklearn.preprocessing import StandardScaler\n",
        "from sklearn.linear_model import LinearRegression, Lasso, Ridge\n",
        "from statsmodels.tsa.seasonal import seasonal_decompose\n",
        "from statsmodels.tsa.arima_model import ARIMA\n",
        "import itertools\n",
        "from tqdm import tqdm\n"
      ]
    },
    {
      "cell_type": "code",
      "source": [
        "filename= '/content/drive/MyDrive/Export_Prediction-master/data/added_data.csv'\n",
        "data = pd.read_csv(filename)\n",
        "data = data.iloc[:-6,1:] # 202107-12 제거\n",
        "data_train = data.iloc[:-6,:]\n",
        "data_test = data.iloc[-6:,:] # 202101-06\n",
        "X_train = data_train.iloc[:,1:]\n",
        "X_test = data_test.iloc[:,1:]\n",
        "y_train = data_train.iloc[:,0]\n",
        "y_test = data_test.iloc[:,0]"
      ],
      "metadata": {
        "colab": {
          "base_uri": "https://localhost:8080/"
        },
        "id": "_EcQHTYMbDCH",
        "outputId": "b20cd636-9bf6-403e-b44f-82079ac5fe5f"
      },
      "execution_count": 18,
      "outputs": [
        {
          "output_type": "stream",
          "name": "stdout",
          "text": [
            "(6, 9)\n"
          ]
        }
      ]
    },
    {
      "cell_type": "markdown",
      "source": [
        "#ARIMA로 독립변수 추출"
      ],
      "metadata": {
        "id": "Ejea7Xe9lDmo"
      }
    },
    {
      "cell_type": "code",
      "source": [
        "filename='/content/drive/MyDrive/Export_Prediction-master/data/added_data.csv'\n",
        "data = pd.read_csv(filename)\n",
        "data = data.iloc[:-6,1:]  #202107-12 제거\n",
        "data.head()\n",
        "data['date']=pd.to_datetime(data['date'])\n",
        "print(data.columns)"
      ],
      "metadata": {
        "colab": {
          "base_uri": "https://localhost:8080/"
        },
        "id": "2s3RNI_YoS_F",
        "outputId": "72265d72-d94f-4629-f125-cd8407da0dfb"
      },
      "execution_count": 17,
      "outputs": [
        {
          "output_type": "stream",
          "name": "stdout",
          "text": [
            "Index(['date', 'korea', 'china', 'USA', 'vietnam', 'hongkong', 'japan', 'EU',\n",
            "       'SSEC', 'SP500', 'USD_KRW'],\n",
            "      dtype='object')\n"
          ]
        }
      ]
    },
    {
      "cell_type": "code",
      "source": [
        "forcast_dict = {}\n",
        "best_params = {}\n",
        "\n",
        "for i in range(2,11):\n",
        "  column = str(data.columns[i])\n",
        "  timeSeries = data.loc[:,['date',column]]\n",
        "  timeSeries.index = timeSeries.date\n",
        "  ts = timeSeries.drop('date',axis=1)\n",
        "  ts = ts.iloc[:-6,:]\n",
        "\n",
        "###################\n",
        "  p = range(0,3)\n",
        "  d = range(1,2)\n",
        "  q = range(0,6)\n",
        "\n",
        "  pdq = list(itertools.product(p,d,q))\n",
        "\n",
        "  aic = []\n",
        "  params = []\n",
        "\n",
        "  with tqdm(total = len(pdq)) as pg:\n",
        "      for i in pdq:\n",
        "          pg.update(1)\n",
        "          try:\n",
        "              model = ARIMA(data[column], order=(i))\n",
        "              model_fit = model.fit()\n",
        "              aic.append(round(model_fit.aic,2))\n",
        "              params.append((i))\n",
        "          except:\n",
        "              continue\n",
        "\n",
        "#####################\n",
        "  optimal = [(params[i],j) for i,j in enumerate(aic) if j == min(aic)]\n",
        "  model = ARIMA(ts, order = optimal[0][0])\n",
        "  model_fit = model.fit()\n",
        "  forecast212 = model_fit.predict('2021-01-01','2021-06-01', typ='levels')\n",
        "  forcast_dict[column] = list(forecast212)\n",
        "  best_params[column] = list(optimal[0][0])\n",
        "\n",
        "print(forcast_dict)\n",
        "print(best_params)"
      ],
      "metadata": {
        "colab": {
          "base_uri": "https://localhost:8080/"
        },
        "id": "5vpt7yaqofTH",
        "outputId": "71a432e0-a23c-4f8f-dfbc-a9d2dfe6b47f"
      },
      "execution_count": 27,
      "outputs": [
        {
          "output_type": "stream",
          "name": "stderr",
          "text": [
            "100%|██████████| 18/18 [00:04<00:00,  4.08it/s]\n",
            "/usr/local/lib/python3.7/dist-packages/statsmodels/tsa/base/tsa_model.py:165: ValueWarning: No frequency information was provided, so inferred frequency MS will be used.\n",
            "  % freq, ValueWarning)\n",
            "/usr/local/lib/python3.7/dist-packages/statsmodels/tsa/base/tsa_model.py:165: ValueWarning: No frequency information was provided, so inferred frequency MS will be used.\n",
            "  % freq, ValueWarning)\n",
            " 39%|███▉      | 7/18 [00:00<00:00, 66.88it/s]/usr/local/lib/python3.7/dist-packages/statsmodels/base/model.py:492: HessianInversionWarning: Inverting hessian failed, no bse or cov_params available\n",
            "  'available', HessianInversionWarning)\n",
            "/usr/local/lib/python3.7/dist-packages/statsmodels/base/model.py:512: ConvergenceWarning: Maximum Likelihood optimization failed to converge. Check mle_retvals\n",
            "  \"Check mle_retvals\", ConvergenceWarning)\n",
            "100%|██████████| 18/18 [00:03<00:00,  4.53it/s]\n",
            "/usr/local/lib/python3.7/dist-packages/statsmodels/tsa/base/tsa_model.py:165: ValueWarning: No frequency information was provided, so inferred frequency MS will be used.\n",
            "  % freq, ValueWarning)\n",
            "/usr/local/lib/python3.7/dist-packages/statsmodels/tsa/base/tsa_model.py:165: ValueWarning: No frequency information was provided, so inferred frequency MS will be used.\n",
            "  % freq, ValueWarning)\n",
            "100%|██████████| 18/18 [00:00<00:00, 23.79it/s]\n",
            "/usr/local/lib/python3.7/dist-packages/statsmodels/tsa/base/tsa_model.py:165: ValueWarning: No frequency information was provided, so inferred frequency MS will be used.\n",
            "  % freq, ValueWarning)\n",
            "/usr/local/lib/python3.7/dist-packages/statsmodels/tsa/base/tsa_model.py:165: ValueWarning: No frequency information was provided, so inferred frequency MS will be used.\n",
            "  % freq, ValueWarning)\n",
            " 83%|████████▎ | 15/18 [00:01<00:00,  9.36it/s]/usr/local/lib/python3.7/dist-packages/statsmodels/tsa/tsatools.py:668: RuntimeWarning: overflow encountered in exp\n",
            "  newparams = ((1-np.exp(-params))/(1+np.exp(-params))).copy()\n",
            "/usr/local/lib/python3.7/dist-packages/statsmodels/tsa/tsatools.py:668: RuntimeWarning: invalid value encountered in true_divide\n",
            "  newparams = ((1-np.exp(-params))/(1+np.exp(-params))).copy()\n",
            "/usr/local/lib/python3.7/dist-packages/statsmodels/tsa/tsatools.py:669: RuntimeWarning: overflow encountered in exp\n",
            "  tmp = ((1-np.exp(-params))/(1+np.exp(-params))).copy()\n",
            "/usr/local/lib/python3.7/dist-packages/statsmodels/tsa/tsatools.py:669: RuntimeWarning: invalid value encountered in true_divide\n",
            "  tmp = ((1-np.exp(-params))/(1+np.exp(-params))).copy()\n",
            "/usr/local/lib/python3.7/dist-packages/statsmodels/base/model.py:492: HessianInversionWarning: Inverting hessian failed, no bse or cov_params available\n",
            "  'available', HessianInversionWarning)\n",
            "/usr/local/lib/python3.7/dist-packages/statsmodels/base/model.py:512: ConvergenceWarning: Maximum Likelihood optimization failed to converge. Check mle_retvals\n",
            "  \"Check mle_retvals\", ConvergenceWarning)\n",
            "/usr/local/lib/python3.7/dist-packages/statsmodels/base/model.py:492: HessianInversionWarning: Inverting hessian failed, no bse or cov_params available\n",
            "  'available', HessianInversionWarning)\n",
            "/usr/local/lib/python3.7/dist-packages/statsmodels/base/model.py:512: ConvergenceWarning: Maximum Likelihood optimization failed to converge. Check mle_retvals\n",
            "  \"Check mle_retvals\", ConvergenceWarning)\n",
            " 94%|█████████▍| 17/18 [00:02<00:00,  5.38it/s]/usr/local/lib/python3.7/dist-packages/statsmodels/base/model.py:492: HessianInversionWarning: Inverting hessian failed, no bse or cov_params available\n",
            "  'available', HessianInversionWarning)\n",
            "/usr/local/lib/python3.7/dist-packages/statsmodels/base/model.py:512: ConvergenceWarning: Maximum Likelihood optimization failed to converge. Check mle_retvals\n",
            "  \"Check mle_retvals\", ConvergenceWarning)\n",
            "/usr/local/lib/python3.7/dist-packages/statsmodels/base/model.py:492: HessianInversionWarning: Inverting hessian failed, no bse or cov_params available\n",
            "  'available', HessianInversionWarning)\n",
            "/usr/local/lib/python3.7/dist-packages/statsmodels/base/model.py:512: ConvergenceWarning: Maximum Likelihood optimization failed to converge. Check mle_retvals\n",
            "  \"Check mle_retvals\", ConvergenceWarning)\n",
            "100%|██████████| 18/18 [00:04<00:00,  4.24it/s]\n",
            "/usr/local/lib/python3.7/dist-packages/statsmodels/tsa/base/tsa_model.py:165: ValueWarning: No frequency information was provided, so inferred frequency MS will be used.\n",
            "  % freq, ValueWarning)\n",
            "/usr/local/lib/python3.7/dist-packages/statsmodels/tsa/base/tsa_model.py:165: ValueWarning: No frequency information was provided, so inferred frequency MS will be used.\n",
            "  % freq, ValueWarning)\n",
            "/usr/local/lib/python3.7/dist-packages/statsmodels/base/model.py:492: HessianInversionWarning: Inverting hessian failed, no bse or cov_params available\n",
            "  'available', HessianInversionWarning)\n",
            "/usr/local/lib/python3.7/dist-packages/statsmodels/base/model.py:512: ConvergenceWarning: Maximum Likelihood optimization failed to converge. Check mle_retvals\n",
            "  \"Check mle_retvals\", ConvergenceWarning)\n",
            " 28%|██▊       | 5/18 [00:00<00:00, 44.44it/s]/usr/local/lib/python3.7/dist-packages/statsmodels/base/model.py:492: HessianInversionWarning: Inverting hessian failed, no bse or cov_params available\n",
            "  'available', HessianInversionWarning)\n",
            "/usr/local/lib/python3.7/dist-packages/statsmodels/base/model.py:512: ConvergenceWarning: Maximum Likelihood optimization failed to converge. Check mle_retvals\n",
            "  \"Check mle_retvals\", ConvergenceWarning)\n",
            " 56%|█████▌    | 10/18 [00:00<00:00,  9.05it/s]/usr/local/lib/python3.7/dist-packages/statsmodels/tsa/kalmanf/kalmanfilter.py:221: RuntimeWarning: divide by zero encountered in true_divide\n",
            "  Z_mat, R_mat, T_mat)\n",
            "100%|██████████| 18/18 [00:02<00:00,  7.65it/s]\n",
            "/usr/local/lib/python3.7/dist-packages/statsmodels/tsa/base/tsa_model.py:165: ValueWarning: No frequency information was provided, so inferred frequency MS will be used.\n",
            "  % freq, ValueWarning)\n",
            "/usr/local/lib/python3.7/dist-packages/statsmodels/tsa/base/tsa_model.py:165: ValueWarning: No frequency information was provided, so inferred frequency MS will be used.\n",
            "  % freq, ValueWarning)\n",
            "100%|██████████| 18/18 [00:03<00:00,  5.17it/s]\n",
            "/usr/local/lib/python3.7/dist-packages/statsmodels/tsa/base/tsa_model.py:165: ValueWarning: No frequency information was provided, so inferred frequency MS will be used.\n",
            "  % freq, ValueWarning)\n",
            "/usr/local/lib/python3.7/dist-packages/statsmodels/tsa/base/tsa_model.py:165: ValueWarning: No frequency information was provided, so inferred frequency MS will be used.\n",
            "  % freq, ValueWarning)\n",
            "100%|██████████| 18/18 [00:01<00:00, 11.30it/s]\n",
            "/usr/local/lib/python3.7/dist-packages/statsmodels/tsa/base/tsa_model.py:165: ValueWarning: No frequency information was provided, so inferred frequency MS will be used.\n",
            "  % freq, ValueWarning)\n",
            "/usr/local/lib/python3.7/dist-packages/statsmodels/tsa/base/tsa_model.py:165: ValueWarning: No frequency information was provided, so inferred frequency MS will be used.\n",
            "  % freq, ValueWarning)\n",
            " 78%|███████▊  | 14/18 [00:00<00:00, 19.18it/s]/usr/local/lib/python3.7/dist-packages/statsmodels/base/model.py:492: HessianInversionWarning: Inverting hessian failed, no bse or cov_params available\n",
            "  'available', HessianInversionWarning)\n",
            "100%|██████████| 18/18 [00:01<00:00,  9.45it/s]\n",
            "/usr/local/lib/python3.7/dist-packages/statsmodels/tsa/base/tsa_model.py:165: ValueWarning: No frequency information was provided, so inferred frequency MS will be used.\n",
            "  % freq, ValueWarning)\n",
            "/usr/local/lib/python3.7/dist-packages/statsmodels/tsa/base/tsa_model.py:165: ValueWarning: No frequency information was provided, so inferred frequency MS will be used.\n",
            "  % freq, ValueWarning)\n",
            " 89%|████████▉ | 16/18 [00:01<00:00, 11.40it/s]/usr/local/lib/python3.7/dist-packages/statsmodels/base/model.py:492: HessianInversionWarning: Inverting hessian failed, no bse or cov_params available\n",
            "  'available', HessianInversionWarning)\n",
            "100%|██████████| 18/18 [00:01<00:00, 10.25it/s]\n",
            "/usr/local/lib/python3.7/dist-packages/statsmodels/tsa/base/tsa_model.py:165: ValueWarning: No frequency information was provided, so inferred frequency MS will be used.\n",
            "  % freq, ValueWarning)\n",
            "/usr/local/lib/python3.7/dist-packages/statsmodels/tsa/base/tsa_model.py:165: ValueWarning: No frequency information was provided, so inferred frequency MS will be used.\n",
            "  % freq, ValueWarning)\n"
          ]
        },
        {
          "output_type": "stream",
          "name": "stdout",
          "text": [
            "{'china': [12341723020.815351, 12132232348.473543, 12225030860.675817, 12362068983.06136, 12417211756.704187, 12399742106.773584], 'USA': [6752979530.172898, 6534090367.760596, 6854584791.815634, 6719012891.651906, 6658830817.767772, 6901676664.092443], 'vietnam': [4971353872.7561035, 4894430203.856111, 4882331030.436537, 4891899945.797018, 4908711587.350752, 4927944166.12894], 'hongkong': [2607877591.4383435, 2655222137.891178, 3046825094.553913, 2626122848.1815753, 2661974524.5381393, 3074466198.492547], 'japan': [2293008996.6371803, 2194851072.1353636, 2286999531.053775, 2201260380.4168396, 2293028090.1750817, 2207668873.74598], 'EU': [4488089374.899037, 4533165590.329529, 4547960510.477911, 4532673735.81602, 4551947477.160903, 4590099868.215004], 'SSEC': [3371.1043275254465, 3375.093724152617, 3378.2242469204707, 3380.418431034073, 3390.012806840532, 3398.1515495020453], 'SP500': [3721.4151087633927, 3730.4967735869745, 3739.5784384105564, 3748.660103234138, 3757.74176805772, 3766.823432881302], 'USD_KRW': [1093.9051053067028, 1092.5486239292582, 1078.138626176035, 1067.5014539359236, 1072.373585207966, 1086.2783413170582]}\n",
            "{'china': [2, 1, 4], 'USA': [2, 1, 3], 'vietnam': [1, 1, 1], 'hongkong': [2, 1, 5], 'japan': [1, 1, 3], 'EU': [2, 1, 3], 'SSEC': [0, 1, 5], 'SP500': [0, 1, 1], 'USD_KRW': [2, 1, 3]}\n"
          ]
        },
        {
          "output_type": "stream",
          "name": "stderr",
          "text": [
            "/usr/local/lib/python3.7/dist-packages/statsmodels/base/model.py:492: HessianInversionWarning: Inverting hessian failed, no bse or cov_params available\n",
            "  'available', HessianInversionWarning)\n"
          ]
        }
      ]
    },
    {
      "cell_type": "code",
      "source": [
        "type(optimal[0][0])"
      ],
      "metadata": {
        "colab": {
          "base_uri": "https://localhost:8080/"
        },
        "id": "84zNl1LDkkCs",
        "outputId": "72fec334-9bfc-41bc-ed2d-70d3cd7aaec1"
      },
      "execution_count": 21,
      "outputs": [
        {
          "output_type": "execute_result",
          "data": {
            "text/plain": [
              "tuple"
            ]
          },
          "metadata": {},
          "execution_count": 21
        }
      ]
    },
    {
      "cell_type": "code",
      "source": [
        "forcast_dict"
      ],
      "metadata": {
        "colab": {
          "base_uri": "https://localhost:8080/"
        },
        "id": "dUgKuCKkHMPG",
        "outputId": "c3c8bfea-18b6-496b-df32-ccda38590e61"
      },
      "execution_count": 28,
      "outputs": [
        {
          "output_type": "execute_result",
          "data": {
            "text/plain": [
              "{'EU': [4488089374.899037,\n",
              "  4533165590.329529,\n",
              "  4547960510.477911,\n",
              "  4532673735.81602,\n",
              "  4551947477.160903,\n",
              "  4590099868.215004],\n",
              " 'SP500': [3721.4151087633927,\n",
              "  3730.4967735869745,\n",
              "  3739.5784384105564,\n",
              "  3748.660103234138,\n",
              "  3757.74176805772,\n",
              "  3766.823432881302],\n",
              " 'SSEC': [3371.1043275254465,\n",
              "  3375.093724152617,\n",
              "  3378.2242469204707,\n",
              "  3380.418431034073,\n",
              "  3390.012806840532,\n",
              "  3398.1515495020453],\n",
              " 'USA': [6752979530.172898,\n",
              "  6534090367.760596,\n",
              "  6854584791.815634,\n",
              "  6719012891.651906,\n",
              "  6658830817.767772,\n",
              "  6901676664.092443],\n",
              " 'USD_KRW': [1093.9051053067028,\n",
              "  1092.5486239292582,\n",
              "  1078.138626176035,\n",
              "  1067.5014539359236,\n",
              "  1072.373585207966,\n",
              "  1086.2783413170582],\n",
              " 'china': [12341723020.815351,\n",
              "  12132232348.473543,\n",
              "  12225030860.675817,\n",
              "  12362068983.06136,\n",
              "  12417211756.704187,\n",
              "  12399742106.773584],\n",
              " 'hongkong': [2607877591.4383435,\n",
              "  2655222137.891178,\n",
              "  3046825094.553913,\n",
              "  2626122848.1815753,\n",
              "  2661974524.5381393,\n",
              "  3074466198.492547],\n",
              " 'japan': [2293008996.6371803,\n",
              "  2194851072.1353636,\n",
              "  2286999531.053775,\n",
              "  2201260380.4168396,\n",
              "  2293028090.1750817,\n",
              "  2207668873.74598],\n",
              " 'vietnam': [4971353872.7561035,\n",
              "  4894430203.856111,\n",
              "  4882331030.436537,\n",
              "  4891899945.797018,\n",
              "  4908711587.350752,\n",
              "  4927944166.12894]}"
            ]
          },
          "metadata": {},
          "execution_count": 28
        }
      ]
    },
    {
      "cell_type": "markdown",
      "source": [
        "# LinearRegression"
      ],
      "metadata": {
        "id": "nxp1mZxec4jL"
      }
    },
    {
      "cell_type": "code",
      "source": [
        "filename= '/content/drive/MyDrive/Export_Prediction-master/data/added_data.csv'\n",
        "data = pd.read_csv(filename)\n",
        "data = data.iloc[:-6,2:] # 202107-12 제거\n",
        "data_train = data.iloc[:-6,:]\n",
        "data_test = data.iloc[-6:,:] # 202101-06\n",
        "X_train = data_train.iloc[:,1:]\n",
        "X_test = pd.DataFrame(forcast_dict)\n",
        "y_train = data_train.iloc[:,0]\n",
        "y_test = data_test.iloc[:,0]"
      ],
      "metadata": {
        "id": "QobMUvMPHmuC"
      },
      "execution_count": 37,
      "outputs": []
    },
    {
      "cell_type": "code",
      "source": [
        "# standard scaling\n",
        "scaler=StandardScaler()\n",
        "X_train_std = scaler.fit_transform(X_train)\n",
        "X_test_std = scaler.transform(X_test)\n",
        "\n",
        "#LinearRegression\n",
        "model=LinearRegression()\n",
        "model.fit(X_train_std, y_train)\n",
        "y_pred = model.predict(X_test_std)\n",
        "rmse = round(metrics.mean_squared_error(y_test, y_pred,squared=False),3)\n",
        "\n",
        "print('==LinearRegression==')\n",
        "print(f'y_prediction : {y_pred}')\n",
        "print(f'rmse : {rmse}')\n",
        "\n",
        "\n",
        "#Lasso\n",
        "model=Lasso(alpha=0.5)\n",
        "model.fit(X_train_std, y_train)\n",
        "y_pred = model.predict(X_test_std)\n",
        "rmse = round(metrics.mean_squared_error(y_test, y_pred,squared=False),3)\n",
        "print('==LassoRegression==')\n",
        "print(f'y_prediction : {y_pred}')\n",
        "print(f'rmse : {rmse}')\n",
        "\n",
        "#Ridge\n",
        "model=Ridge(alpha=0.5)\n",
        "model.fit(X_train_std, y_train)\n",
        "y_pred = model.predict(X_test_std)\n",
        "rmse = round(metrics.mean_squared_error(y_test, y_pred,squared=False),3)\n",
        "print('==RidgeRegression==')\n",
        "print(f'y_prediction : {y_pred}')\n",
        "print(f'rmse : {rmse}')"
      ],
      "metadata": {
        "colab": {
          "base_uri": "https://localhost:8080/"
        },
        "id": "nsJYSw7pVV0W",
        "outputId": "b4137880-33bb-45fd-b2ea-09db78c6081b"
      },
      "execution_count": 40,
      "outputs": [
        {
          "output_type": "stream",
          "name": "stdout",
          "text": [
            "==LinearRegression==\n",
            "y_prediction : [4.78651687e+10 4.66452497e+10 4.76499391e+10 4.73122810e+10\n",
            " 4.76881295e+10 4.78633475e+10]\n",
            "rmse : 4332749107.075\n",
            "==LassoRegression==\n",
            "y_prediction : [4.78651687e+10 4.66452497e+10 4.76499391e+10 4.73122810e+10\n",
            " 4.76881295e+10 4.78633475e+10]\n",
            "rmse : 4332749104.098\n",
            "==RidgeRegression==\n",
            "y_prediction : [4.78730893e+10 4.66644891e+10 4.77167934e+10 4.73210209e+10\n",
            " 4.77045744e+10 4.79269969e+10]\n",
            "rmse : 4298479536.689\n"
          ]
        }
      ]
    },
    {
      "cell_type": "code",
      "source": [
        ""
      ],
      "metadata": {
        "colab": {
          "base_uri": "https://localhost:8080/",
          "height": 173
        },
        "id": "tvvYuq4afX4O",
        "outputId": "8cdb994c-0917-4925-c5ee-aacc7590a625"
      },
      "execution_count": 28,
      "outputs": [
        {
          "output_type": "error",
          "ename": "TypeError",
          "evalue": "ignored",
          "traceback": [
            "\u001b[0;31m---------------------------------------------------------------------------\u001b[0m",
            "\u001b[0;31mTypeError\u001b[0m                                 Traceback (most recent call last)",
            "\u001b[0;32m<ipython-input-28-f2885ef01544>\u001b[0m in \u001b[0;36m<module>\u001b[0;34m()\u001b[0m\n\u001b[0;32m----> 1\u001b[0;31m \u001b[0;36m1068004888.589\u001b[0m\u001b[0;34m/\u001b[0m\u001b[0;36m10\u001b[0m\u001b[0;34m^\u001b[0m\u001b[0;36m9\u001b[0m\u001b[0;34m\u001b[0m\u001b[0;34m\u001b[0m\u001b[0m\n\u001b[0m",
            "\u001b[0;31mTypeError\u001b[0m: unsupported operand type(s) for ^: 'float' and 'int'"
          ]
        }
      ]
    },
    {
      "cell_type": "code",
      "source": [
        ""
      ],
      "metadata": {
        "id": "Sd4H062ijddu"
      },
      "execution_count": null,
      "outputs": []
    }
  ]
}